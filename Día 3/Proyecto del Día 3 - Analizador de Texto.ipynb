{
 "cells": [
  {
   "cell_type": "markdown",
   "id": "9572445f",
   "metadata": {},
   "source": [
    "# Proyecto del Día 3: Analizador de Texto\n",
    "\n",
    "Este proyecto tiene como objetivo aplicar los conceptos aprendidos sobre strings, input, indexación y formateo de strings en Python. El programa permitirá al usuario ingresar un texto y luego elegir realizar diversas operaciones de análisis sobre ese texto.\n",
    "\n",
    "## Consigna\n",
    "Vas a crear un programa que le pida al usuario que ingrese un texto de al menos 10 palabras. Tu programa va a procesar ese texto, lo va a procesar, y le va a devolver un análisis detallado, que incluya:\n",
    "1. Contar el número total de caracteres en el texto\n",
    "2. Contar el número de caracteres sin incluir los espacios\n",
    "3. Contar la cantidad de vocales que hay en el texto\n",
    "4. Contar el número total de palabras en el texto ingresado\n",
    "\n",
    "**nota**: para resolver los siguientes items, deberás investigar otros métodos de strings que no hemos visto. Recuerda valerte de *type*, *dir* y *help*\n",
    "\n",
    "5. Eliminar la primera palabra\n",
    "6. Reemplazar todos los espacios por guiones medios (-)\n",
    "8. Cambia las mayúsculas a minúsculas y las minúsculas a mayúsculas \n",
    "\n",
    "Al finalizar el procesamiento, se imprimirán 8 cadenas literales mostrando los resultados del análisis (una cadena por cada resultado).\n",
    "<br>\n",
    "<br>\n",
    "<br>"
   ]
  },
  {
   "cell_type": "markdown",
   "id": "e5cd9e4d",
   "metadata": {},
   "source": [
    "### Resolución\n",
    "\n",
    "Ingreso del usuario:"
   ]
  },
  {
   "cell_type": "code",
   "execution_count": 11,
   "id": "fa27da8c",
   "metadata": {},
   "outputs": [
    {
     "data": {
      "text/plain": [
       "'el mejor'"
      ]
     },
     "execution_count": 11,
     "metadata": {},
     "output_type": "execute_result"
    }
   ],
   "source": [
    "saludo = input(\"Ingresa un texto de al menos 10 palabras\")\n",
    "saludo"
   ]
  },
  {
   "cell_type": "markdown",
   "id": "41214377",
   "metadata": {},
   "source": [
    "1. Contar el número total de caracteres en el texto"
   ]
  },
  {
   "cell_type": "code",
   "execution_count": 12,
   "id": "40448873",
   "metadata": {},
   "outputs": [
    {
     "data": {
      "text/plain": [
       "8"
      ]
     },
     "execution_count": 12,
     "metadata": {},
     "output_type": "execute_result"
    }
   ],
   "source": [
    "contador_total = len(saludo)\n",
    "contador_total"
   ]
  },
  {
   "cell_type": "markdown",
   "id": "3d6378dc",
   "metadata": {},
   "source": [
    "2. Contar el número de caracteres sin incluir los espacios"
   ]
  },
  {
   "cell_type": "code",
   "execution_count": 13,
   "id": "991b29c7",
   "metadata": {},
   "outputs": [
    {
     "data": {
      "text/plain": [
       "1"
      ]
     },
     "execution_count": 13,
     "metadata": {},
     "output_type": "execute_result"
    }
   ],
   "source": [
    "contador_caracteres = saludo.count(\" \") #cuenta cuantos espacios\n",
    "contador_caracteres"
   ]
  },
  {
   "cell_type": "code",
   "execution_count": 14,
   "id": "1a4bb3ba",
   "metadata": {},
   "outputs": [
    {
     "data": {
      "text/plain": [
       "7"
      ]
     },
     "execution_count": 14,
     "metadata": {},
     "output_type": "execute_result"
    }
   ],
   "source": [
    "contador_sin_espacios = contador_total - contador_caracteres \n",
    "contador_sin_espacios"
   ]
  },
  {
   "cell_type": "markdown",
   "id": "c6e62385",
   "metadata": {},
   "source": [
    "3. Contar la cantidad de vocales que hay en el texto"
   ]
  },
  {
   "cell_type": "code",
   "execution_count": 15,
   "id": "65b19bc7",
   "metadata": {},
   "outputs": [
    {
     "data": {
      "text/plain": [
       "3"
      ]
     },
     "execution_count": 15,
     "metadata": {},
     "output_type": "execute_result"
    }
   ],
   "source": [
    "num_a = saludo.count(\"a\")\n",
    "num_e = saludo.count(\"e\")\n",
    "num_i = saludo.count(\"i\")\n",
    "num_o = saludo.count(\"o\")\n",
    "num_u = saludo.count(\"u\")\n",
    "\n",
    "num_vocales_total = num_a + num_e + num_i + num_o + num_u\n",
    "num_vocales_total"
   ]
  },
  {
   "cell_type": "markdown",
   "id": "4b6211c5",
   "metadata": {},
   "source": [
    "4. Contar el número total de palabras en el texto ingresado"
   ]
  },
  {
   "cell_type": "code",
   "execution_count": 17,
   "id": "5b6eb1b1",
   "metadata": {},
   "outputs": [
    {
     "data": {
      "text/plain": [
       "2"
      ]
     },
     "execution_count": 17,
     "metadata": {},
     "output_type": "execute_result"
    }
   ],
   "source": [
    "num_palabras = contador_caracteres + 1\n",
    "num_palabras"
   ]
  },
  {
   "cell_type": "markdown",
   "id": "bee5597e",
   "metadata": {},
   "source": [
    "5. Eliminar la primera palabra"
   ]
  },
  {
   "cell_type": "code",
   "execution_count": 21,
   "id": "8bcbfe9d",
   "metadata": {},
   "outputs": [
    {
     "data": {
      "text/plain": [
       "'mejor'"
      ]
     },
     "execution_count": 21,
     "metadata": {},
     "output_type": "execute_result"
    }
   ],
   "source": [
    "primer_espacio = saludo.find(\" \") #me indica el primer espacio\n",
    "sin_primera_palabra = saludo[primer_espacio + 1:]\n",
    "sin_primera_palabra"
   ]
  },
  {
   "cell_type": "markdown",
   "id": "d5b05440",
   "metadata": {},
   "source": [
    "6. Reemplazar todos los espacios por guiones medios (-)"
   ]
  },
  {
   "cell_type": "code",
   "execution_count": 22,
   "id": "90a21e61",
   "metadata": {},
   "outputs": [
    {
     "data": {
      "text/plain": [
       "'el-mejor'"
      ]
     },
     "execution_count": 22,
     "metadata": {},
     "output_type": "execute_result"
    }
   ],
   "source": [
    "guiones = saludo.replace(\" \", \"-\")\n",
    "guiones"
   ]
  },
  {
   "cell_type": "markdown",
   "id": "8a61c508",
   "metadata": {},
   "source": [
    "7. Cambia las mayúsculas a minúsculas y las minúsculas a mayúsculas"
   ]
  },
  {
   "cell_type": "code",
   "execution_count": 23,
   "id": "8cb35aaf",
   "metadata": {},
   "outputs": [
    {
     "data": {
      "text/plain": [
       "'EL MEJOR'"
      ]
     },
     "execution_count": 23,
     "metadata": {},
     "output_type": "execute_result"
    }
   ],
   "source": [
    "cambio_letras = saludo.swapcase()\n",
    "cambio_letras"
   ]
  },
  {
   "cell_type": "markdown",
   "id": "66b8d816",
   "metadata": {},
   "source": [
    "Muéstrale al usuario los resultados del análisis de su texto."
   ]
  },
  {
   "cell_type": "code",
   "execution_count": 34,
   "id": "eb0d449a",
   "metadata": {},
   "outputs": [
    {
     "name": "stdout",
     "output_type": "stream",
     "text": [
      "El número de caracteres es: 8\n",
      "Si no contamos los espacios que tienes, tendrias 1 caracteres\n",
      "Dentro de la frase hay 3 vocales en total\n",
      "El numero total de palabras de la frase es: 2\n",
      "Eliminando la primera palabra, la frase queda asi: mejor\n",
      "Se reemplazan los espacios por guiones, quedando la frase: el-mejor\n",
      "Cambiando mayusculas por minusculas o viceversa la frase queda: EL MEJOR\n",
      "\n"
     ]
    }
   ],
   "source": [
    "print(f\"El número de caracteres es: {contador_total}\")\n",
    "print(f\"Si no contamos los espacios que tienes, tendrias {contador_caracteres} caracteres\")\n",
    "print(f\"Dentro de la frase hay {num_vocales_total} vocales en total\")\n",
    "print(f\"El numero total de palabras de la frase es: {num_palabras}\")\n",
    "print(f\"Eliminando la primera palabra, la frase queda asi: {sin_primera_palabra}\")\n",
    "print(f\"Se reemplazan los espacios por guiones, quedando la frase: {guiones}\")\n",
    "print(f\"Cambiando mayusculas por minusculas o viceversa la frase queda: {cambio_letras}\")\n",
    "print(f\"\")"
   ]
  }
 ],
 "metadata": {
  "kernelspec": {
   "display_name": "Python 3",
   "language": "python",
   "name": "python3"
  },
  "language_info": {
   "codemirror_mode": {
    "name": "ipython",
    "version": 3
   },
   "file_extension": ".py",
   "mimetype": "text/x-python",
   "name": "python",
   "nbconvert_exporter": "python",
   "pygments_lexer": "ipython3",
   "version": "3.13.5"
  }
 },
 "nbformat": 4,
 "nbformat_minor": 5
}
