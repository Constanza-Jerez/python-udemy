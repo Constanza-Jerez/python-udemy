{
 "cells": [
  {
   "cell_type": "code",
   "execution_count": null,
   "id": "d954d66d",
   "metadata": {},
   "outputs": [],
   "source": [
    "#1.Saludo personalizado\n",
    "#Escribe saludar(nombre) que imprima “¡Hola, <nombre>!”\n",
    "\n",
    "def saludar(nombre):\n",
    "    print(f\"Hola, {nombre}!\")\n",
    "\n",
    "# Ejemplo de uso\n",
    "saludar(\"Cony\")"
   ]
  },
  {
   "cell_type": "code",
   "execution_count": null,
   "id": "1b425794",
   "metadata": {},
   "outputs": [],
   "source": [
    "#Suma de dos números\n",
    "#Crea sumar(a, b) que devuelva la suma.\n",
    "\n",
    "def suma(a, b):\n",
    "    print(f\"La suma de ambos números es {a + b}\")\n",
    "\n",
    "suma(8, 9) \n"
   ]
  },
  {
   "cell_type": "code",
   "execution_count": null,
   "id": "addf2a21",
   "metadata": {},
   "outputs": [],
   "source": [
    "def solicitar_nombre():\n",
    "    nombre = input(\"Cual es tu nombre?: \")\n",
    "    return nombre\n",
    "\n",
    "def saludo():\n",
    "    saludos = f\"Hola {solicitar_nombre()}\"\n",
    "    print(saludos)\n",
    "\n",
    "saludo()\n"
   ]
  },
  {
   "cell_type": "code",
   "execution_count": null,
   "id": "9a1a3fe0",
   "metadata": {},
   "outputs": [],
   "source": [
    "def devuelvo_algo(algo):\n",
    "    return algo\n",
    "\n",
    "#devuelvo_algo(\"Hola\")\n",
    "a = devuelvo_algo(1)\n",
    "a = a + 2\n",
    "print(a)\n",
    "    "
   ]
  }
 ],
 "metadata": {
  "kernelspec": {
   "display_name": "Python 3",
   "language": "python",
   "name": "python3"
  },
  "language_info": {
   "codemirror_mode": {
    "name": "ipython",
    "version": 3
   },
   "file_extension": ".py",
   "mimetype": "text/x-python",
   "name": "python",
   "nbconvert_exporter": "python",
   "pygments_lexer": "ipython3",
   "version": "3.13.5"
  }
 },
 "nbformat": 4,
 "nbformat_minor": 5
}
