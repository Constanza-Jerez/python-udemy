{
 "cells": [
  {
   "cell_type": "markdown",
   "id": "a948c51c",
   "metadata": {},
   "source": [
    "# Proyecto del Día 5: Generador de Tablas de Multiplicar (Solución)"
   ]
  },
  {
   "cell_type": "markdown",
   "id": "e8159936",
   "metadata": {},
   "source": [
    "\n",
    "Este proyecto de Python permite al usuario generar tablas de multiplicar para cualquier número y hasta un límite específico de multiplicación.\n",
    "\n",
    "## Consigna\n",
    "Vas a crear un código que le pida al usuario un **número para multiplicar**, y un **número límite** para establecer hasta cuánto lo vamos a multiplicar.\n",
    "\n",
    "Por ejemplo, si el usuario elige:\n",
    "- Número: 5\n",
    "- Límite: 3\n",
    "\n",
    "El programa le devolverá:\n",
    "```\n",
    "5 x 1 = 5\n",
    "5 x 2 = 10\n",
    "5 x 3 = 15\n",
    "````\n",
    "\n",
    "Cuando el programa termine de mostrar los resultados, debe preguntarle al usuario si desea calcular otra tabla, o finalizar el programa.\n",
    "\n",
    "**Recomendaciones**:\n",
    "- Crear una función que se encargue de calcular las tablas\n",
    "- Crear una función global que se encargue de:\n",
    "    - Solicitar al usuario un número para generar su tabla de multiplicar.\n",
    "    - Pedir el límite hasta donde se quiere llegar en la multiplicación.\n",
    "    - Llamar a la función que crea las tablas\n",
    "    \n",
    "- Emplear bucles `for` y la función `range` para la lógica de la tabla.\n",
    "- Implementar un bucle `while` para que el usuario pueda generar múltiples tablas o salir del programa.\n"
   ]
  },
  {
   "cell_type": "code",
   "execution_count": 10,
   "id": "39ac3e8e",
   "metadata": {},
   "outputs": [],
   "source": [
    "def tablas_multiplicar(numero, limite):\n",
    "    for n in range(1, limite+ 1):\n",
    "        print(f\"{numero} X {n} = {numero * n}\")\n",
    "    "
   ]
  },
  {
   "cell_type": "code",
   "execution_count": 18,
   "id": "64d45ea5",
   "metadata": {},
   "outputs": [
    {
     "name": "stdout",
     "output_type": "stream",
     "text": [
      "Holacomo estas?\n",
      "Hola como estas?\n"
     ]
    }
   ],
   "source": [
    "a = \"Hola\"\n",
    "b = \"como estas?\"\n",
    "print(a + b)\n",
    "print(f\"{a} {b}\")"
   ]
  },
  {
   "cell_type": "code",
   "execution_count": null,
   "id": "aeba4046",
   "metadata": {},
   "outputs": [
    {
     "name": "stdout",
     "output_type": "stream",
     "text": [
      "10 X 1 = 10\n",
      "10 X 2 = 20\n",
      "10 X 3 = 30\n",
      "10 X 4 = 40\n",
      "10 X 5 = 50\n",
      "10 X 6 = 60\n",
      "10 X 7 = 70\n",
      "10 X 8 = 80\n",
      "10 X 9 = 90\n",
      "10 X 10 = 100\n",
      "10 X 11 = 110\n",
      "10 X 12 = 120\n"
     ]
    }
   ],
   "source": []
  },
  {
   "cell_type": "code",
   "execution_count": 1,
   "id": "2a5934d5",
   "metadata": {},
   "outputs": [],
   "source": [
    "def inicio():\n",
    "    while True:\n",
    "        print(\"\\nGenerador de Tablas de Multiplicar\\n\")\n",
    "        num = int(input(\"Ingrese el número que desea multiplicar: \"))\n",
    "        lim = int(input(\"Ingrese la cantidad de veces que desea multiplicarlo: \"))\n",
    "        \n",
    "        generar_tablas(num, lim)\n",
    "        \n",
    "        otra = input(\"¿Quiere calcular más tablas? (s/n):\")\n",
    "        if otra.lower() != \"s\":\n",
    "            break"
   ]
  },
  {
   "cell_type": "code",
   "execution_count": null,
   "id": "0311a22c",
   "metadata": {},
   "outputs": [],
   "source": [
    "inicio()"
   ]
  },
  {
   "cell_type": "code",
   "execution_count": null,
   "id": "b78d06ad",
   "metadata": {},
   "outputs": [
    {
     "name": "stdout",
     "output_type": "stream",
     "text": [
      "1\n",
      "2\n",
      "3\n",
      "4\n",
      "5\n",
      "6\n",
      "7\n",
      "8\n",
      "9\n",
      "10\n"
     ]
    }
   ],
   "source": [
    "for i in range (1,11):\n",
    "    print(i)"
   ]
  }
 ],
 "metadata": {
  "kernelspec": {
   "display_name": "Python 3",
   "language": "python",
   "name": "python3"
  },
  "language_info": {
   "codemirror_mode": {
    "name": "ipython",
    "version": 3
   },
   "file_extension": ".py",
   "mimetype": "text/x-python",
   "name": "python",
   "nbconvert_exporter": "python",
   "pygments_lexer": "ipython3",
   "version": "3.13.5"
  }
 },
 "nbformat": 4,
 "nbformat_minor": 5
}
