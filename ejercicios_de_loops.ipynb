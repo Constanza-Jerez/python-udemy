{
 "cells": [
  {
   "cell_type": "markdown",
   "id": "94ba995b",
   "metadata": {},
   "source": [
    "1. Imprimir números\n",
    " – Usa for para imprimir del 1 al 10."
   ]
  },
  {
   "cell_type": "code",
   "execution_count": null,
   "id": "8d999f62",
   "metadata": {},
   "outputs": [],
   "source": [
    "for n in range(1, 11):\n",
    "    print(n)"
   ]
  },
  {
   "cell_type": "markdown",
   "id": "44328bcf",
   "metadata": {},
   "source": [
    "## 2. imprimir una lista\n",
    "# Enunciado: Dada lista = ['a', 'b', 'c', 'd'], recorre e imprime cada elemento con un for."
   ]
  },
  {
   "cell_type": "code",
   "execution_count": null,
   "id": "b66e5bfd",
   "metadata": {},
   "outputs": [],
   "source": [
    "#2. imprimir una lista\n",
    "#Enunciado: Dada lista = ['a', 'b', 'c', 'd'], recorre e imprime cada elemento con un for.\n",
    "\n",
    "lista = [\"a\", \"b\", \"c\", \"d\"]\n",
    "\n",
    "for l in lista:\n",
    "    print(l)\n"
   ]
  },
  {
   "cell_type": "code",
   "execution_count": null,
   "id": "049493b3",
   "metadata": {},
   "outputs": [],
   "source": [
    "#3 suma acumulada\n",
    "#Enunciado: Usa un for para sumar todos los números de nums = [1, 2, 3, 4, 5] e imprime el total al final.\n",
    "\n",
    "nums = [1,2,3,4,5] #se crea la variable con la lista de numeros\n",
    "suma = 0 # se inicia el acumulador en 0\n",
    "\n",
    "for n in nums:\n",
    "    suma = suma + n #que en cada iteracion, vamos sumando: suma = suma + n\n",
    "    print(suma)\n",
    "print(\"total:\", suma)\n"
   ]
  },
  {
   "cell_type": "code",
   "execution_count": null,
   "id": "a22ff392",
   "metadata": {},
   "outputs": [],
   "source": [
    "#4 Cuenta regresiva con while\n",
    "#Enunciado: Con while, imprime del 10 al 1 y luego “¡Despegue!”.\n",
    "\n",
    "cuenta_regresiva = 5                #declaramos la variable\n",
    "\n",
    "while cuenta_regresiva > 0:         #mientras n sea mayor a 0\n",
    "    print(cuenta_regresiva)         # imprimimos el valor de n\n",
    "    \n",
    "    cuenta_regresiva = cuenta_regresiva - 1       # y n le vamos descontando en 1\n",
    "\n",
    "print(\"Despegue!\")                  #y cuando llegue a cero, se sale del while y se muestra el mensaje\n",
    "\n"
   ]
  },
  {
   "cell_type": "code",
   "execution_count": null,
   "id": "9518ff5c",
   "metadata": {},
   "outputs": [],
   "source": [
    "#5 Elementos Pares\n",
    "#Enunciado: Recorre del 1 al 10 con for y guarda en una lista sólo los pares.\n",
    "\n",
    "num_pares = [1,2,3,4,5,6,7,8,9,10]\n",
    "lista = []\n",
    "\n",
    "for n in num_pares:\n",
    "    #print(n)\n",
    "    if n % 2 == 0:          #si la variable n es igual a 0, es decir, se divide n en 2 y si el residuo de la division es igual a 0 el numero es par\n",
    "        lista.append(n)\n",
    "print(lista)\n",
    "\n"
   ]
  },
  {
   "cell_type": "code",
   "execution_count": null,
   "id": "92b02c78",
   "metadata": {},
   "outputs": [],
   "source": [
    "#6 Tabla de multiplicar dinamica\n",
    "#Enunciado: Pide al usuario un número n y con un for imprime su tabla del 1 al 10.\n",
    "\n",
    "tabla = int(input(\"Ingresa un numero del 1 al 10\")) #le pedimos un valor al usuario y usamos int para convertirlo en numero\n",
    "\n",
    "for n in range(1, 11):      #recorre del 1 al 10\n",
    "    resultado = tabla * n   #calculamos, donde tabla se multiplica por cada n\n",
    "    print(f\"{tabla} x {n} = {resultado}\") "
   ]
  },
  {
   "cell_type": "code",
   "execution_count": null,
   "id": "ce4ae9e1",
   "metadata": {},
   "outputs": [],
   "source": [
    "#7 Contar caracteres\n",
    "#Enunciado: Con for recorre la cadena \"hola mundo\" y cuenta cuántas veces aparece la letra 'o'.\n",
    "\n",
    "saludo = \"hola mundo que lindo hoy dia jueves o no?\"\n",
    "contador = 0                # 2. Inicializamos el contador en cero, esta variable servirá para llevar la cuenta de cuántas veces vemos la letra \"o\".\n",
    "\n",
    "for s in saludo:            \n",
    "    if s != \"o\":            # va a ir contando uno por uno, si encuentra la 'o' la pasa al contador y este le suma 1 (porque esta en 0)\n",
    "        contador = contador + 1 #si encuentra la vocal 'o' se agrega este contador\n",
    "\n",
    "print(f\"Cuantas veces aparece la letra 'o': {contador} veces\")\n"
   ]
  },
  {
   "cell_type": "code",
   "execution_count": null,
   "id": "e21eee0f",
   "metadata": {},
   "outputs": [],
   "source": [
    "#8. Reemplazo condicional\n",
    "# Enunciado: Dada frase = \"el loro voló\", recorre cada palabra y si es \"loro\", cámbiala por \"papagayo\".\n",
    "\n",
    "frase = \"el loro voló\"\n",
    "otra_palabra = []\n",
    "\n",
    "for f in frase.split():         # Dividimos la frase en una lista de palabras - frase.split() genera [\"el\", \"loro\", \"voló\"]\n",
    "    if f == \"loro\":             # se hace el slipt para que encuentre coincidencias\n",
    "        otra_palabra.append(\"papagayo\")\n",
    "    else:\n",
    "        otra_palabra.append(f)\n",
    "\n",
    "frase_modificada = \" \".join(otra_palabra)   #Con join reconstruyes la frase con los reemplazos.\n",
    "\n",
    "print(frase_modificada)\n",
    "\n",
    "#----------------------------------------------------------\n",
    "\n",
    "frase = \"el loro voló\"\n",
    "frase_modificada = frase.replace(\"loro\", \"papagayo\")\n",
    "print(frase_modificada)  # \"el papagayo voló\"\n",
    "\n"
   ]
  },
  {
   "cell_type": "code",
   "execution_count": null,
   "id": "353cea84",
   "metadata": {},
   "outputs": [],
   "source": [
    "#9. Producto acumulado\n",
    "#Enunciado: Calcular el producto (multiplicación) de [1, 2, 3, 4].\n",
    "\n",
    "num_lista = [1, 2, 3, 4]\n",
    "producto = 1                         # 1. Empezamos en 1 (identidad multiplicativa), porque si es 0 = 1\n",
    "\n",
    "for n in nums:                       # 2. Recorremos la lista de numeros (n)\n",
    "    producto = producto * n          # 3. Multiplicamos acumulando: producto = producto * n\n",
    "\n",
    "print(f\"El producto es: {producto}\")\n"
   ]
  },
  {
   "cell_type": "code",
   "execution_count": null,
   "id": "c5d8b614",
   "metadata": {},
   "outputs": [],
   "source": [
    "#10. Bucle infinito controlado\n",
    "#Enunciado: Crea un while True que pregunte al usuario un número hasta que ingrese 0, luego rompa el bucle con break.\n",
    "\n",
    "while True:                              # 1. Bucle que nunca termina\n",
    "    valor = int(input(\"Ingresa un número (0 para salir): \"))\n",
    "    if valor == 0:                      # 2. Si el usuario pone 0\n",
    "        print(\"¡Hasta luego!\")          #    se cierra el bucle\n",
    "        break                           #    y salimos del bucle\n",
    "    print(\"Elegiste:\", valor)           # 3. Si no es 0, mostramos el número y sigue el bucle\n"
   ]
  }
 ],
 "metadata": {
  "kernelspec": {
   "display_name": "Python 3",
   "language": "python",
   "name": "python3"
  },
  "language_info": {
   "codemirror_mode": {
    "name": "ipython",
    "version": 3
   },
   "file_extension": ".py",
   "mimetype": "text/x-python",
   "name": "python",
   "nbconvert_exporter": "python",
   "pygments_lexer": "ipython3",
   "version": "3.13.5"
  }
 },
 "nbformat": 4,
 "nbformat_minor": 5
}
